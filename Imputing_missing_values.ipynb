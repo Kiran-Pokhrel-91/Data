{
  "nbformat": 4,
  "nbformat_minor": 0,
  "metadata": {
    "colab": {
      "provenance": [],
      "collapsed_sections": [
        "6JFbxuIiIJY2",
        "EB9nkKRKN8Uk",
        "TliGptmVVGgB"
      ],
      "authorship_tag": "ABX9TyO03aOjDw6s2bSSHOrvBRc+",
      "include_colab_link": true
    },
    "kernelspec": {
      "name": "python3",
      "display_name": "Python 3"
    },
    "language_info": {
      "name": "python"
    }
  },
  "cells": [
    {
      "cell_type": "markdown",
      "metadata": {
        "id": "view-in-github",
        "colab_type": "text"
      },
      "source": [
        "<a href=\"https://colab.research.google.com/github/Kiran-Pokhrel-91/Data/blob/main/Imputing_missing_values.ipynb\" target=\"_parent\"><img src=\"https://colab.research.google.com/assets/colab-badge.svg\" alt=\"Open In Colab\"/></a>"
      ]
    },
    {
      "cell_type": "markdown",
      "source": [
        "# Six Important Ways of Imputing Missing Values <br>\n",
        "You can impute missing values using machine learning model which is known as data imputaion and is commonly used in data preprocessing to handle missing or incomoplete data.Some methods are as follows:- <br>\n",
        "1. **Simple Imputatuin technique**\n",
        "    - Mean / Median Imputation\n",
        "    - Mode Imputation\n",
        "2. **K-Nearest Neighbors(KNN)**\n",
        "3. **Regression Imputation**\n",
        "4. **Decission Tree and Random Forest**\n",
        "5. **Advance Technique:**\n",
        "    - Multiple Imputation by Chain Equation (MICE)\n",
        "    - Deep Learning Methods\n",
        "6. **Time-Series Specific Method** <br>\n",
        "\n",
        "It is important to choose right method based on tyopes of data, pattern of missingness and amount of missing data."
      ],
      "metadata": {
        "id": "A6ymm8WkCAg6"
      }
    },
    {
      "cell_type": "markdown",
      "source": [
        "# Simple Imputation"
      ],
      "metadata": {
        "id": "6JFbxuIiIJY2"
      }
    },
    {
      "cell_type": "code",
      "source": [
        "import pandas as pd\n",
        "import seaborn as sns\n",
        "\n",
        "data = sns.load_dataset('titanic')\n",
        "print(data.isnull().sum().sort_values(ascending=False))"
      ],
      "metadata": {
        "colab": {
          "base_uri": "https://localhost:8080/"
        },
        "id": "sFnBXnuzIOSj",
        "outputId": "f051e2ad-a41f-49f5-b27c-c2b87e4b5084"
      },
      "execution_count": null,
      "outputs": [
        {
          "output_type": "stream",
          "name": "stdout",
          "text": [
            "deck           688\n",
            "age            177\n",
            "embarked         2\n",
            "embark_town      2\n",
            "sex              0\n",
            "pclass           0\n",
            "survived         0\n",
            "fare             0\n",
            "parch            0\n",
            "sibsp            0\n",
            "class            0\n",
            "adult_male       0\n",
            "who              0\n",
            "alive            0\n",
            "alone            0\n",
            "dtype: int64\n"
          ]
        }
      ]
    },
    {
      "cell_type": "code",
      "source": [
        "data = (\n",
        "    data.assign(\n",
        "        age = data['age'].fillna(data['age'].mean()),\n",
        "        embarked = data['embarked'].fillna(data['embarked'].mode()[0]),\n",
        "        embark_town = data['embark_town'].fillna(data['embark_town'].mode()[0])\n",
        "    )\n",
        "    .drop(columns='deck')\n",
        ")\n"
      ],
      "metadata": {
        "id": "BMI7wa1PKKa4"
      },
      "execution_count": null,
      "outputs": []
    },
    {
      "cell_type": "code",
      "source": [
        "print(data.isnull().sum().sort_values(ascending=False))"
      ],
      "metadata": {
        "colab": {
          "base_uri": "https://localhost:8080/"
        },
        "id": "Qo7PLtkfKqlK",
        "outputId": "43acc454-6451-4499-fda0-495552009a49"
      },
      "execution_count": null,
      "outputs": [
        {
          "output_type": "stream",
          "name": "stdout",
          "text": [
            "survived       0\n",
            "pclass         0\n",
            "sex            0\n",
            "age            0\n",
            "sibsp          0\n",
            "parch          0\n",
            "fare           0\n",
            "embarked       0\n",
            "class          0\n",
            "who            0\n",
            "adult_male     0\n",
            "embark_town    0\n",
            "alive          0\n",
            "alone          0\n",
            "dtype: int64\n"
          ]
        }
      ]
    },
    {
      "cell_type": "markdown",
      "source": [
        "# K-Nearest Neighbour\n",
        "It works by finding most similar datapoints to one with based on other available features"
      ],
      "metadata": {
        "id": "EB9nkKRKN8Uk"
      }
    },
    {
      "cell_type": "code",
      "source": [
        "data1=sns.load_dataset('titanic')\n",
        "from sklearn.impute import KNNImputer\n",
        "\n",
        "# Calling KNN imputer with neighbours=4\n",
        "imputer = KNNImputer(n_neighbors=4)\n",
        "\n",
        "# Imputing missing values\n",
        "data1['age'] = imputer.fit_transform(data1[['age']])\n",
        "\n",
        "data1.isnull().sum().sort_values(ascending=False)"
      ],
      "metadata": {
        "colab": {
          "base_uri": "https://localhost:8080/",
          "height": 554
        },
        "id": "1EjyuPjnOhTC",
        "outputId": "14e78193-1be3-4cbd-9a92-ae50d64b4cc9"
      },
      "execution_count": null,
      "outputs": [
        {
          "output_type": "execute_result",
          "data": {
            "text/plain": [
              "deck           688\n",
              "embarked         2\n",
              "embark_town      2\n",
              "age              0\n",
              "survived         0\n",
              "pclass           0\n",
              "sex              0\n",
              "fare             0\n",
              "parch            0\n",
              "sibsp            0\n",
              "class            0\n",
              "adult_male       0\n",
              "who              0\n",
              "alive            0\n",
              "alone            0\n",
              "dtype: int64"
            ],
            "text/html": [
              "<div>\n",
              "<style scoped>\n",
              "    .dataframe tbody tr th:only-of-type {\n",
              "        vertical-align: middle;\n",
              "    }\n",
              "\n",
              "    .dataframe tbody tr th {\n",
              "        vertical-align: top;\n",
              "    }\n",
              "\n",
              "    .dataframe thead th {\n",
              "        text-align: right;\n",
              "    }\n",
              "</style>\n",
              "<table border=\"1\" class=\"dataframe\">\n",
              "  <thead>\n",
              "    <tr style=\"text-align: right;\">\n",
              "      <th></th>\n",
              "      <th>0</th>\n",
              "    </tr>\n",
              "  </thead>\n",
              "  <tbody>\n",
              "    <tr>\n",
              "      <th>deck</th>\n",
              "      <td>688</td>\n",
              "    </tr>\n",
              "    <tr>\n",
              "      <th>embarked</th>\n",
              "      <td>2</td>\n",
              "    </tr>\n",
              "    <tr>\n",
              "      <th>embark_town</th>\n",
              "      <td>2</td>\n",
              "    </tr>\n",
              "    <tr>\n",
              "      <th>age</th>\n",
              "      <td>0</td>\n",
              "    </tr>\n",
              "    <tr>\n",
              "      <th>survived</th>\n",
              "      <td>0</td>\n",
              "    </tr>\n",
              "    <tr>\n",
              "      <th>pclass</th>\n",
              "      <td>0</td>\n",
              "    </tr>\n",
              "    <tr>\n",
              "      <th>sex</th>\n",
              "      <td>0</td>\n",
              "    </tr>\n",
              "    <tr>\n",
              "      <th>fare</th>\n",
              "      <td>0</td>\n",
              "    </tr>\n",
              "    <tr>\n",
              "      <th>parch</th>\n",
              "      <td>0</td>\n",
              "    </tr>\n",
              "    <tr>\n",
              "      <th>sibsp</th>\n",
              "      <td>0</td>\n",
              "    </tr>\n",
              "    <tr>\n",
              "      <th>class</th>\n",
              "      <td>0</td>\n",
              "    </tr>\n",
              "    <tr>\n",
              "      <th>adult_male</th>\n",
              "      <td>0</td>\n",
              "    </tr>\n",
              "    <tr>\n",
              "      <th>who</th>\n",
              "      <td>0</td>\n",
              "    </tr>\n",
              "    <tr>\n",
              "      <th>alive</th>\n",
              "      <td>0</td>\n",
              "    </tr>\n",
              "    <tr>\n",
              "      <th>alone</th>\n",
              "      <td>0</td>\n",
              "    </tr>\n",
              "  </tbody>\n",
              "</table>\n",
              "</div><br><label><b>dtype:</b> int64</label>"
            ]
          },
          "metadata": {},
          "execution_count": 13
        }
      ]
    },
    {
      "cell_type": "markdown",
      "source": [
        "# Note:-\n",
        "As we know that machine learning works on numeric values so we can encode the catogerical values to the values using `LabelEncoder`"
      ],
      "metadata": {
        "id": "TliGptmVVGgB"
      }
    },
    {
      "cell_type": "code",
      "source": [
        "from sklearn.preprocessing import LabelEncoder\n",
        "edata = sns.load_dataset('titanic')\n",
        "\n",
        "cols_to_encode =['sex','embarked','who','deck','class','embark_town','alive']\n",
        "\n",
        "label_encoder = {}\n",
        "\n",
        "for col in cols_to_encode:\n",
        "    le = LabelEncoder()\n",
        "    edata[col] = le.fit_transform(edata[col])\n",
        "    label_encoder[col] = le"
      ],
      "metadata": {
        "id": "Ppsr75MtVHge"
      },
      "execution_count": 23,
      "outputs": []
    }
  ]
}