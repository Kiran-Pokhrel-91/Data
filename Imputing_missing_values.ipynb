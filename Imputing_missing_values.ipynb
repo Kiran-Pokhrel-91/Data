{
  "nbformat": 4,
  "nbformat_minor": 0,
  "metadata": {
    "colab": {
      "provenance": [],
      "authorship_tag": "ABX9TyME35Zv54uAr/P+IfAsFWum",
      "include_colab_link": true
    },
    "kernelspec": {
      "name": "python3",
      "display_name": "Python 3"
    },
    "language_info": {
      "name": "python"
    }
  },
  "cells": [
    {
      "cell_type": "markdown",
      "metadata": {
        "id": "view-in-github",
        "colab_type": "text"
      },
      "source": [
        "<a href=\"https://colab.research.google.com/github/Kiran-Pokhrel-91/Data/blob/main/Imputing_missing_values.ipynb\" target=\"_parent\"><img src=\"https://colab.research.google.com/assets/colab-badge.svg\" alt=\"Open In Colab\"/></a>"
      ]
    },
    {
      "cell_type": "markdown",
      "source": [
        "# Six Important Ways of Imputing Missing Values <br>\n",
        "You can impute missing values using machine learning model which is known as data imputaion and is commonly used in data preprocessing to handle missing or incomoplete data.Some methods are as follows:- <br>\n",
        "1. **Simple Imputatuin technique**\n",
        "    - Mean / Median Imputation\n",
        "    - Mode Imputation\n",
        "2. **K-Nearest Neighbors(KNN)**\n",
        "3. **Regression Imputation**\n",
        "4. **Decission Tree and Random Forest**\n",
        "5. **Advance Technique:**\n",
        "    - Multiple Imputation by Chain Equation (MICE)\n",
        "    - Deep Learning Methods\n",
        "6. **Time-Series Specific Method** <br>\n",
        "\n",
        "It is important to choose right method based on tyopes of data, pattern of missingness and amount of missing data."
      ],
      "metadata": {
        "id": "A6ymm8WkCAg6"
      }
    },
    {
      "cell_type": "markdown",
      "source": [
        "# Simple Imputation"
      ],
      "metadata": {
        "id": "6JFbxuIiIJY2"
      }
    },
    {
      "cell_type": "code",
      "source": [
        "import pandas as pd\n",
        "import seaborn as sns\n",
        "\n",
        "data = sns.load_dataset('titanic')\n",
        "print(data.isnull().sum().sort_values(ascending=False))"
      ],
      "metadata": {
        "colab": {
          "base_uri": "https://localhost:8080/"
        },
        "id": "sFnBXnuzIOSj",
        "outputId": "f051e2ad-a41f-49f5-b27c-c2b87e4b5084"
      },
      "execution_count": 4,
      "outputs": [
        {
          "output_type": "stream",
          "name": "stdout",
          "text": [
            "deck           688\n",
            "age            177\n",
            "embarked         2\n",
            "embark_town      2\n",
            "sex              0\n",
            "pclass           0\n",
            "survived         0\n",
            "fare             0\n",
            "parch            0\n",
            "sibsp            0\n",
            "class            0\n",
            "adult_male       0\n",
            "who              0\n",
            "alive            0\n",
            "alone            0\n",
            "dtype: int64\n"
          ]
        }
      ]
    },
    {
      "cell_type": "code",
      "source": [
        "data = (\n",
        "    data.assign(\n",
        "        age = data['age'].fillna(data['age'].mean()),\n",
        "        embarked = data['embarked'].fillna(data['embarked'].mode()[0]),\n",
        "        embark_town = data['embark_town'].fillna(data['embark_town'].mode()[0])\n",
        "    )\n",
        "    .drop(columns='deck')\n",
        ")\n"
      ],
      "metadata": {
        "id": "BMI7wa1PKKa4"
      },
      "execution_count": 6,
      "outputs": []
    },
    {
      "cell_type": "code",
      "source": [
        "print(data.isnull().sum().sort_values(ascending=False))"
      ],
      "metadata": {
        "colab": {
          "base_uri": "https://localhost:8080/"
        },
        "id": "Qo7PLtkfKqlK",
        "outputId": "43acc454-6451-4499-fda0-495552009a49"
      },
      "execution_count": 7,
      "outputs": [
        {
          "output_type": "stream",
          "name": "stdout",
          "text": [
            "survived       0\n",
            "pclass         0\n",
            "sex            0\n",
            "age            0\n",
            "sibsp          0\n",
            "parch          0\n",
            "fare           0\n",
            "embarked       0\n",
            "class          0\n",
            "who            0\n",
            "adult_male     0\n",
            "embark_town    0\n",
            "alive          0\n",
            "alone          0\n",
            "dtype: int64\n"
          ]
        }
      ]
    }
  ]
}