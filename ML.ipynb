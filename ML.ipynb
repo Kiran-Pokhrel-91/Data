{
  "nbformat": 4,
  "nbformat_minor": 0,
  "metadata": {
    "colab": {
      "provenance": [],
      "include_colab_link": true
    },
    "kernelspec": {
      "name": "python3",
      "display_name": "Python 3"
    },
    "language_info": {
      "name": "python"
    }
  },
  "cells": [
    {
      "cell_type": "markdown",
      "metadata": {
        "id": "view-in-github",
        "colab_type": "text"
      },
      "source": [
        "<a href=\"https://colab.research.google.com/github/Kiran-Pokhrel-91/Data/blob/main/ML.ipynb\" target=\"_parent\"><img src=\"https://colab.research.google.com/assets/colab-badge.svg\" alt=\"Open In Colab\"/></a>"
      ]
    },
    {
      "cell_type": "markdown",
      "source": [
        "# Data analyzing"
      ],
      "metadata": {
        "id": "gt2nS5hUSobT"
      }
    },
    {
      "cell_type": "code",
      "source": [
        "# importing libaries\n",
        "import pandas as pd\n",
        "import seaborn as sns\n",
        "import numpy as np\n",
        "from sklearn.linear_model import LinearRegression\n",
        "# Loading datasets of tips\n",
        "df = sns.load_dataset('tips')\n",
        "df.info()"
      ],
      "metadata": {
        "colab": {
          "base_uri": "https://localhost:8080/"
        },
        "id": "iNtlfqzLStdv",
        "outputId": "b77ee459-9f5d-4611-b348-0cb6bce8dfd3"
      },
      "execution_count": null,
      "outputs": [
        {
          "output_type": "stream",
          "name": "stdout",
          "text": [
            "<class 'pandas.core.frame.DataFrame'>\n",
            "RangeIndex: 244 entries, 0 to 243\n",
            "Data columns (total 7 columns):\n",
            " #   Column      Non-Null Count  Dtype   \n",
            "---  ------      --------------  -----   \n",
            " 0   total_bill  244 non-null    float64 \n",
            " 1   tip         244 non-null    float64 \n",
            " 2   sex         244 non-null    category\n",
            " 3   smoker      244 non-null    category\n",
            " 4   day         244 non-null    category\n",
            " 5   time        244 non-null    category\n",
            " 6   size        244 non-null    int64   \n",
            "dtypes: category(4), float64(2), int64(1)\n",
            "memory usage: 7.4 KB\n"
          ]
        }
      ]
    },
    {
      "cell_type": "code",
      "source": [
        "df.nunique()"
      ],
      "metadata": {
        "colab": {
          "base_uri": "https://localhost:8080/",
          "height": 303
        },
        "id": "ZXa4JR1mS7C1",
        "outputId": "9eb04510-9cc3-4db4-8366-c0570d171c7e"
      },
      "execution_count": null,
      "outputs": [
        {
          "output_type": "execute_result",
          "data": {
            "text/plain": [
              "total_bill    229\n",
              "tip           123\n",
              "sex             2\n",
              "smoker          2\n",
              "day             4\n",
              "time            2\n",
              "size            6\n",
              "dtype: int64"
            ],
            "text/html": [
              "<div>\n",
              "<style scoped>\n",
              "    .dataframe tbody tr th:only-of-type {\n",
              "        vertical-align: middle;\n",
              "    }\n",
              "\n",
              "    .dataframe tbody tr th {\n",
              "        vertical-align: top;\n",
              "    }\n",
              "\n",
              "    .dataframe thead th {\n",
              "        text-align: right;\n",
              "    }\n",
              "</style>\n",
              "<table border=\"1\" class=\"dataframe\">\n",
              "  <thead>\n",
              "    <tr style=\"text-align: right;\">\n",
              "      <th></th>\n",
              "      <th>0</th>\n",
              "    </tr>\n",
              "  </thead>\n",
              "  <tbody>\n",
              "    <tr>\n",
              "      <th>total_bill</th>\n",
              "      <td>229</td>\n",
              "    </tr>\n",
              "    <tr>\n",
              "      <th>tip</th>\n",
              "      <td>123</td>\n",
              "    </tr>\n",
              "    <tr>\n",
              "      <th>sex</th>\n",
              "      <td>2</td>\n",
              "    </tr>\n",
              "    <tr>\n",
              "      <th>smoker</th>\n",
              "      <td>2</td>\n",
              "    </tr>\n",
              "    <tr>\n",
              "      <th>day</th>\n",
              "      <td>4</td>\n",
              "    </tr>\n",
              "    <tr>\n",
              "      <th>time</th>\n",
              "      <td>2</td>\n",
              "    </tr>\n",
              "    <tr>\n",
              "      <th>size</th>\n",
              "      <td>6</td>\n",
              "    </tr>\n",
              "  </tbody>\n",
              "</table>\n",
              "</div><br><label><b>dtype:</b> int64</label>"
            ]
          },
          "metadata": {},
          "execution_count": 2
        }
      ]
    },
    {
      "cell_type": "markdown",
      "source": [
        "# Simple Linear regression model"
      ],
      "metadata": {
        "id": "ROtkgt5qFt62"
      }
    },
    {
      "cell_type": "code",
      "execution_count": null,
      "metadata": {
        "colab": {
          "base_uri": "https://localhost:8080/"
        },
        "id": "Y46LGWv3Crky",
        "outputId": "cee85b5e-edf7-4cc4-f6ec-35beb22406c0"
      },
      "outputs": [
        {
          "output_type": "stream",
          "name": "stdout",
          "text": [
            "Equation: tip(y) = 0.11(m) * total_bill(X) + 0.92(C)\n",
            "Prediction: 6.17\n"
          ]
        },
        {
          "output_type": "stream",
          "name": "stderr",
          "text": [
            "/usr/local/lib/python3.11/dist-packages/sklearn/utils/validation.py:2739: UserWarning: X does not have valid feature names, but LinearRegression was fitted with feature names\n",
            "  warnings.warn(\n"
          ]
        }
      ],
      "source": [
        "# importing libaries\n",
        "import pandas as pd\n",
        "import seaborn as sns\n",
        "import numpy as np\n",
        "from sklearn.linear_model import LinearRegression\n",
        "# Loading datasets of tips\n",
        "df = sns.load_dataset('tips')\n",
        "\n",
        "# Selecting feature and target variable\n",
        "X = df[['total_bill']] #Input / feature variable\n",
        "y = df['tip'] # Output / target variable\n",
        "\n",
        "# Load / Call and Fitting linear regression model\n",
        "model = LinearRegression()\n",
        "model.fit(X,y)\n",
        "\n",
        "# let's predict the tips for an ubknown total_bill\n",
        "print(f\"Equation: tip(y) = {model.coef_[0]:.2f}(m) * total_bill(X) + {model.intercept_:.2f}(C)\")\n",
        "print(f\"Prediction: {model.predict(np.array([[50]]))[0]:.2f}\")"
      ]
    },
    {
      "cell_type": "markdown",
      "source": [
        "# Multiple linear regression\n",
        "\n",
        "\n",
        "Here we add `smoker` in our model which is `non-numeric` but\n",
        "`Machine Learning` only works on `numeric variables` so we have to encode\n",
        "`smoker into numeric`\n"
      ],
      "metadata": {
        "id": "fcgMGe4XTRJS"
      }
    },
    {
      "cell_type": "code",
      "source": [
        "# knowing all unique value\n",
        "df.smoker.unique()\n",
        "\n",
        "# Encoding smoker into numeric\n",
        "# df['smoker_num'] = df['smoker'].map({'Yes':1, 'No':0}) # This encodes into numeric"
      ],
      "metadata": {
        "colab": {
          "base_uri": "https://localhost:8080/"
        },
        "id": "qiAbsydzTT8q",
        "outputId": "3ad2a3a5-0dc0-4044-e7b4-ab47cf66952b"
      },
      "execution_count": null,
      "outputs": [
        {
          "output_type": "execute_result",
          "data": {
            "text/plain": [
              "['No', 'Yes']\n",
              "Categories (2, object): ['Yes', 'No']"
            ]
          },
          "metadata": {},
          "execution_count": 6
        }
      ]
    },
    {
      "cell_type": "code",
      "source": [
        "# Developing model in one go\n",
        "# importing libraries\n",
        "import pandas as pd\n",
        "import seaborn as sns\n",
        "import numpy as np\n",
        "from sklearn.linear_model import LinearRegression\n",
        "\n",
        "# Loading dataset of tips\n",
        "df = sns.load_dataset('tips')\n",
        "\n",
        "# Encoding smoker into numeric\n",
        "df['smoker_num'] = df['smoker'].map({'Yes':1, 'No':0})\n",
        "\n",
        "# Selecting feature and target variable\n",
        "X = df[['total_bill','smoker_num']] # Input / feature variable\n",
        "y = df['tip']                      # Output / target variable\n",
        "\n",
        "# Load / Call and Fit linear regression model\n",
        "model = LinearRegression()\n",
        "model.fit(X, y)\n",
        "\n",
        "# Model Equation\n",
        "print(f\"Equation: tip(y) = {model.coef_[0]:.2f}(m1) * total_bill(X1) + {model.coef_[1]:.2f}(m2) * smoker_num(X2) + {model.intercept_:.2f}(C)\")\n",
        "\n",
        "# Predicting tip for a total bill of $50 and a smoker (smoker_num = 1)\n",
        "print(f\"Prediction (smoker): {model.predict(np.array([[50, 1]]))[0]:.2f}\")\n",
        "\n",
        "# Predicting tip for a total bill of $50 and a non-smoker (smoker_num = 0)\n",
        "print(f\"Prediction (non-smoker): {model.predict(np.array([[50, 0]]))[0]:.2f}\")\n"
      ],
      "metadata": {
        "colab": {
          "base_uri": "https://localhost:8080/"
        },
        "id": "ZQ2jBuFmUgSk",
        "outputId": "e39ab922-b87e-4a87-9b6c-32ecd8ee8fe5"
      },
      "execution_count": null,
      "outputs": [
        {
          "output_type": "stream",
          "name": "stdout",
          "text": [
            "Equation: tip(y) = 0.11(m1) * total_bill(X1) + -0.15(m2) * smoker_num(X2) + 0.96(C)\n",
            "Prediction (smoker): 6.10\n",
            "Prediction (non-smoker): 6.25\n"
          ]
        },
        {
          "output_type": "stream",
          "name": "stderr",
          "text": [
            "/usr/local/lib/python3.11/dist-packages/sklearn/utils/validation.py:2739: UserWarning: X does not have valid feature names, but LinearRegression was fitted with feature names\n",
            "  warnings.warn(\n",
            "/usr/local/lib/python3.11/dist-packages/sklearn/utils/validation.py:2739: UserWarning: X does not have valid feature names, but LinearRegression was fitted with feature names\n",
            "  warnings.warn(\n"
          ]
        }
      ]
    },
    {
      "cell_type": "markdown",
      "source": [
        "# Logistic Regression"
      ],
      "metadata": {
        "id": "yegMgKy8mLxG"
      }
    },
    {
      "cell_type": "code",
      "source": [
        "# importing libraries\n",
        "import pandas as pd\n",
        "import seaborn as sns\n",
        "import numpy as np\n",
        "from sklearn.linear_model import LogisticRegression\n",
        "\n",
        "# Loading dataset of tips\n",
        "df = sns.load_dataset('tips')\n",
        "\n",
        "# Selecting feature and target variable\n",
        "X = df[['total_bill','tip']] # Input / feature variable\n",
        "y = df['smoker']                      # Output / target variable\n",
        "\n",
        "# Load / Call and Fit linear regression model\n",
        "model = LogisticRegression()\n",
        "model.fit(X, y)\n",
        "\n",
        "print(f\"Prediction: {model.predict(np.array([[50, 4.5]]))}\")\n",
        "print(f\"Prediction: {model.predict(np.array([[30, 4.5]]))}\")\n"
      ],
      "metadata": {
        "colab": {
          "base_uri": "https://localhost:8080/"
        },
        "id": "ENrypgn-mORQ",
        "outputId": "a0a1ba42-2419-41f0-ec47-e8b96e4315f3"
      },
      "execution_count": null,
      "outputs": [
        {
          "output_type": "stream",
          "name": "stdout",
          "text": [
            "Equation (log-odds): log(p/1-p) = 0.0342 * total_bill + -0.1396 * tip + -0.7482\n",
            "Prediction: ['Yes']\n",
            "Prediction: ['No']\n"
          ]
        },
        {
          "output_type": "stream",
          "name": "stderr",
          "text": [
            "/usr/local/lib/python3.11/dist-packages/sklearn/utils/validation.py:2739: UserWarning: X does not have valid feature names, but LogisticRegression was fitted with feature names\n",
            "  warnings.warn(\n",
            "/usr/local/lib/python3.11/dist-packages/sklearn/utils/validation.py:2739: UserWarning: X does not have valid feature names, but LogisticRegression was fitted with feature names\n",
            "  warnings.warn(\n"
          ]
        }
      ]
    }
  ]
}